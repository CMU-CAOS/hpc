{
 "cells": [
  {
   "cell_type": "code",
   "execution_count": null,
   "metadata": {},
   "outputs": [],
   "source": [
    "import numpy as np\n",
    "from matplotlib import pyplot as plt\n",
    "\n",
    "NUM_SMS = 56\n",
    "\n",
    "for app in ['deepcam', 'openfold']:\n",
    "    results = np.loadtxt(f'{app}/results.txt')\n",
    "    x = results[:, 0] * NUM_SMS // 100 # Number of SMs\n",
    "    y = x[0] * results[0, 1] / results[:, 1] # Speedup\n",
    "    plt.plot(x, y, label=app)"
   ]
  }
 ],
 "metadata": {
  "kernelspec": {
   "display_name": ".venv",
   "language": "python",
   "name": "python3"
  },
  "language_info": {
   "name": "python",
   "version": "3.10.12"
  }
 },
 "nbformat": 4,
 "nbformat_minor": 2
}
